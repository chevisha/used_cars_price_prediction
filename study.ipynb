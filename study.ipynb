{
 "cells": [
  {
   "cell_type": "code",
   "execution_count": 5,
   "metadata": {},
   "outputs": [
    {
     "name": "stdout",
     "output_type": "stream",
     "text": [
      ".git\n",
      ".gitignore\n",
      ".venv\n",
      "study.ipynb\n",
      "vehicles.zip\n",
      "\n"
     ]
    }
   ],
   "source": [
    "import requests,os\n",
    "from tqdm import tqdm\n",
    "\n",
    "\n",
    "def check_dataset():\n",
    "    files = os.listdir('.')\n",
    "    flag=1\n",
    "    for file in files:\n",
    "        print(file)\n",
    "        if(\"vehicles.csv\"==file):\n",
    "            flag=0\n",
    "    return flag\n",
    "\n",
    "def download():\n",
    "    print(\"Downloading dataset.....\")\n",
    "    url = \"https://www.dropbox.com/scl/fi/hiod02ra6fa1d5f5q7bmd/vehicles.csv?rlkey=ein4k3paqkw0ashh8njtyg6ed&st=gvyd3ohd&dl=1\"\n",
    "    response = requests.get(url, stream=True)\n",
    "    \n",
    "    # Get the total file size\n",
    "    total_size = int(response.headers.get('content-length', 0))\n",
    "    \n",
    "    with open(\"vehicles.csv\", mode=\"wb\") as file:\n",
    "        for chunk in tqdm(response.iter_content(chunk_size=10 * 1024), total=total_size//(10*1024), unit='KB'):\n",
    "            file.write(chunk)\n",
    "\n",
    "    response = requests.get(url, stream=True)\n",
    "    print(response.headers)\n",
    "\n",
    "if(check_dataset()):\n",
    "    download()\n",
    "else:\n",
    "    print()"
   ]
  },
  {
   "cell_type": "code",
   "execution_count": null,
   "metadata": {},
   "outputs": [],
   "source": [
    "import pandas"
   ]
  }
 ],
 "metadata": {
  "kernelspec": {
   "display_name": "Python 3",
   "language": "python",
   "name": "python3"
  },
  "language_info": {
   "codemirror_mode": {
    "name": "ipython",
    "version": 3
   },
   "file_extension": ".py",
   "mimetype": "text/x-python",
   "name": "python",
   "nbconvert_exporter": "python",
   "pygments_lexer": "ipython3",
   "version": "3.12.1"
  }
 },
 "nbformat": 4,
 "nbformat_minor": 2
}
