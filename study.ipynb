{
 "cells": [
  {
   "cell_type": "markdown",
   "metadata": {},
   "source": [
    "<h1 style=\"text-align: center;\">Tim \"Poslednji ispit\" - University of Kragujevac</h1>\n",
    "\n",
    "<p style=\"text-align: center;\">\n",
    "  <img src=\"logopmfy.png\" alt=\"University of Kragujevac Logo\" width=\"200\" height=\"200\">\n",
    "</p>\n",
    "\n",
    "<h2 style=\"text-align: center;\">Team Members</h2>\n",
    "\n",
    "<ul style=\"list-style-type: none; text-align: center;\">\n",
    "  <li><strong>Vuk Lazović</strong></li>\n",
    "  <li><strong>Sara Verlimirović</strong></li>\n",
    "  <li><strong>Mihajlo Janković</strong></li>\n",
    "</ul>\n"
   ]
  },
  {
   "cell_type": "markdown",
   "metadata": {},
   "source": [
    "# Predstavljanje problema"
   ]
  },
  {
   "cell_type": "markdown",
   "metadata": {},
   "source": [
    "....."
   ]
  },
  {
   "cell_type": "markdown",
   "metadata": {},
   "source": [
    "# Preuzimanje dataseta"
   ]
  },
  {
   "cell_type": "code",
   "execution_count": null,
   "metadata": {},
   "outputs": [],
   "source": [
    "pip install -r requirements.txt"
   ]
  },
  {
   "cell_type": "code",
   "execution_count": null,
   "metadata": {},
   "outputs": [],
   "source": [
    "import requests,os\n",
    "from tqdm import tqdm\n",
    "\n",
    "\n",
    "def check_dataset():\n",
    "    files = os.listdir('.')\n",
    "    flag=1\n",
    "    for file in files:\n",
    "        if(\"vehicles.csv\"==file):\n",
    "            flag=0\n",
    "    return flag\n",
    "\n",
    "def download():\n",
    "    print(\"Downloading dataset.....\")\n",
    "    url = \"https://www.dropbox.com/scl/fi/hiod02ra6fa1d5f5q7bmd/vehicles.csv?rlkey=ein4k3paqkw0ashh8njtyg6ed&st=gvyd3ohd&dl=1\"\n",
    "    response = requests.get(url, stream=True)\n",
    "    \n",
    "    # Get the total file size\n",
    "    total_size = int(response.headers.get('content-length', 0))\n",
    "    \n",
    "    with open(\"vehicles.csv\", mode=\"wb\") as file:\n",
    "        for chunk in tqdm(response.iter_content(chunk_size=10 * 1024), total=total_size//(10*1024), unit='KB'):\n",
    "            file.write(chunk)\n",
    "\n",
    "    response = requests.get(url, stream=True)\n",
    "\n",
    "\n",
    "if(check_dataset()):\n",
    "    download()\n",
    "else:\n",
    "    print(\"Dataset already downloaded\")"
   ]
  },
  {
   "cell_type": "code",
   "execution_count": null,
   "metadata": {},
   "outputs": [],
   "source": [
    "import pandas as pd\n",
    "df=pd.read_csv(\"vehicles.csv\")\n",
    "df\n"
   ]
  },
  {
   "cell_type": "code",
   "execution_count": null,
   "metadata": {},
   "outputs": [],
   "source": [
    "df.info()"
   ]
  },
  {
   "cell_type": "code",
   "execution_count": null,
   "metadata": {},
   "outputs": [],
   "source": [
    "print(df.describe())"
   ]
  },
  {
   "cell_type": "markdown",
   "metadata": {},
   "source": [
    "# Analiza"
   ]
  },
  {
   "cell_type": "markdown",
   "metadata": {},
   "source": [
    "# Selekcija"
   ]
  },
  {
   "cell_type": "markdown",
   "metadata": {},
   "source": [
    "# Modeli mašinsko učenja"
   ]
  },
  {
   "cell_type": "markdown",
   "metadata": {},
   "source": [
    "## Resampling"
   ]
  },
  {
   "cell_type": "markdown",
   "metadata": {},
   "source": [
    "## F-regression"
   ]
  },
  {
   "cell_type": "markdown",
   "metadata": {},
   "source": [
    "## Decision Tree"
   ]
  },
  {
   "cell_type": "markdown",
   "metadata": {},
   "source": [
    "## Random forest"
   ]
  },
  {
   "cell_type": "markdown",
   "metadata": {},
   "source": [
    "## Neuronske mreže"
   ]
  },
  {
   "cell_type": "markdown",
   "metadata": {},
   "source": [
    "# Zaključak"
   ]
  },
  {
   "cell_type": "markdown",
   "metadata": {},
   "source": [
    "# Literatura"
   ]
  },
  {
   "cell_type": "code",
   "execution_count": null,
   "metadata": {},
   "outputs": [],
   "source": [
    "pip freeze > requirements.txt"
   ]
  }
 ],
 "metadata": {
  "kernelspec": {
   "display_name": "Python 3",
   "language": "python",
   "name": "python3"
  },
  "language_info": {
   "codemirror_mode": {
    "name": "ipython",
    "version": 3
   },
   "file_extension": ".py",
   "mimetype": "text/x-python",
   "name": "python",
   "nbconvert_exporter": "python",
   "pygments_lexer": "ipython3",
   "version": "3.12.1"
  }
 },
 "nbformat": 4,
 "nbformat_minor": 2
}
